{
  "nbformat": 4,
  "nbformat_minor": 0,
  "metadata": {
    "colab": {
      "provenance": []
    },
    "kernelspec": {
      "name": "python3",
      "display_name": "Python 3"
    },
    "language_info": {
      "name": "python"
    }
  },
  "cells": [
    {
      "cell_type": "markdown",
      "source": [
        "1.Given an array, check if it contains any duplicates or not.\n",
        "\n",
        "arr = [1, 2, 4, 2, 5, 9]\n",
        "\n",
        "Output = True"
      ],
      "metadata": {
        "id": "roCpw_mNMe_0"
      }
    },
    {
      "cell_type": "code",
      "execution_count": 5,
      "metadata": {
        "colab": {
          "base_uri": "https://localhost:8080/"
        },
        "id": "vhI-racpMW-k",
        "outputId": "ef93d801-f5c5-450b-9e5c-8a0e8282b437"
      },
      "outputs": [
        {
          "output_type": "stream",
          "name": "stdout",
          "text": [
            "True\n"
          ]
        }
      ],
      "source": [
        "def duplicate(arr):\n",
        "  for i in range(len(arr)):\n",
        "    for j in range(i+1,len(arr)):\n",
        "      if arr[i]==arr[j]:\n",
        "        return True\n",
        "\n",
        "  return False\n",
        "#driver code\n",
        "arr = [1, 2, 4, 2, 5, 9]\n",
        "result=duplicate(arr)\n",
        "print(result)"
      ]
    },
    {
      "cell_type": "markdown",
      "source": [
        "2.Given an array and an integer k, rotate the array to the right by k steps.\n",
        "\n",
        "arr = [1, 2, 3, 4, 5, 6, 7] k = 3\n",
        "\n",
        "Output = [5, 6, 7, 1, 2, 3, 4]"
      ],
      "metadata": {
        "id": "6PzWhrjYPOp8"
      }
    },
    {
      "cell_type": "code",
      "source": [
        "def rotated_array(arr,k):\n",
        "  n=len(arr)\n",
        "  k=k%n\n",
        "  rotated_array= arr[n-k:] + arr[:n-k]\n",
        "  return rotated_array\n",
        "#driver code\n",
        "arr = [1, 2, 3, 4, 5, 6, 7]\n",
        "k = 3\n",
        "result=rotated_array(arr,k)\n",
        "print(result)"
      ],
      "metadata": {
        "colab": {
          "base_uri": "https://localhost:8080/"
        },
        "id": "bKL6kYXoOBOs",
        "outputId": "2674f51a-87f6-4623-b2b0-40a7582aa23b"
      },
      "execution_count": 11,
      "outputs": [
        {
          "output_type": "stream",
          "name": "stdout",
          "text": [
            "[5, 6, 7, 1, 2, 3, 4]\n"
          ]
        }
      ]
    },
    {
      "cell_type": "markdown",
      "source": [
        "3.Reverse the given array in-place, means without using any extra data structure.\n",
        "\n",
        "arr = [2, 4, 5, 7, 9, 12]\n",
        "\n",
        "Output = [12, 9, 7, 5, 4, 2]"
      ],
      "metadata": {
        "id": "PKB4L-k-RSOt"
      }
    },
    {
      "cell_type": "code",
      "source": [
        "def reverse(arr):\n",
        "  start=0\n",
        "  end=len(arr)-1\n",
        "  while start<end:\n",
        "    arr[start],arr[end]=arr[end],arr[start]\n",
        "    start+=1\n",
        "    end-=1\n",
        "\n",
        "#driver code\n",
        "arr = [2, 4, 5, 7, 9, 12]\n",
        "result=reverse(arr)\n",
        "print(arr)"
      ],
      "metadata": {
        "colab": {
          "base_uri": "https://localhost:8080/"
        },
        "id": "M_KgjbVEP6GE",
        "outputId": "19d8743d-c135-4f5f-a1c0-797f5e202eb8"
      },
      "execution_count": 13,
      "outputs": [
        {
          "output_type": "stream",
          "name": "stdout",
          "text": [
            "[12, 9, 7, 5, 4, 2]\n"
          ]
        }
      ]
    },
    {
      "cell_type": "markdown",
      "source": [
        "4.Given an array of integers, find the maximum element in an array\n",
        "\n",
        "arr = [10, 5, 20, 8, 15]\n",
        "\n",
        "Output = 20"
      ],
      "metadata": {
        "id": "gbQaFJmKTmT1"
      }
    },
    {
      "cell_type": "code",
      "source": [
        "def Maximum(arr):\n",
        "  num=0\n",
        "  for i in arr:\n",
        "    if i>num:\n",
        "      num=i\n",
        "  return num\n",
        "\n",
        "#driver code\n",
        "arr = [10, 5, 20, 8, 15]\n",
        "result= Maximum(arr)\n",
        "print(result)"
      ],
      "metadata": {
        "colab": {
          "base_uri": "https://localhost:8080/"
        },
        "id": "rj22Y8GwSGOV",
        "outputId": "ee94233f-5125-424a-ad35-94da33d96bfc"
      },
      "execution_count": 14,
      "outputs": [
        {
          "output_type": "stream",
          "name": "stdout",
          "text": [
            "20\n"
          ]
        }
      ]
    },
    {
      "cell_type": "markdown",
      "source": [
        "5.Given a sorted array, remove the duplicate element without using any extra data structure.\n",
        "\n",
        "arr = [1, 1, 2, 2, 2, 3, 3, 4, 4, 4, 5, 5]\n",
        "\n",
        "Output = [1, 2, 3, 4, 5]"
      ],
      "metadata": {
        "id": "j4FeygCwVM5d"
      }
    },
    {
      "cell_type": "code",
      "source": [
        "def Remove_duplicate(arr):\n",
        "  index=0\n",
        "  for i in range(1,len(arr)):\n",
        "    if arr[i]!= arr[index]:\n",
        "      index+=1\n",
        "      arr[index]=arr[i]\n",
        "  return arr[:index+1]\n",
        "\n",
        "# driver code\n",
        "arr = [1, 1, 2, 2, 2, 3, 3, 4, 4, 4, 5, 5]\n",
        "result = Remove_duplicate(arr)\n",
        "print(result)"
      ],
      "metadata": {
        "colab": {
          "base_uri": "https://localhost:8080/"
        },
        "id": "4CK39MHOVI09",
        "outputId": "8c4219be-ba3d-43ae-e25d-80c9326f4290"
      },
      "execution_count": 19,
      "outputs": [
        {
          "output_type": "stream",
          "name": "stdout",
          "text": [
            "[1, 2, 3, 4, 5]\n"
          ]
        }
      ]
    },
    {
      "cell_type": "code",
      "source": [],
      "metadata": {
        "id": "_QBfeYNSWz0F"
      },
      "execution_count": null,
      "outputs": []
    }
  ]
}